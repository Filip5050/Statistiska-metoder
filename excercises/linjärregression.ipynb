{
 "cells": [
  {
   "cell_type": "code",
   "execution_count": 77,
   "metadata": {},
   "outputs": [],
   "source": [
    "import pandas as pd\n",
    "import numpy as np\n",
    "import matplotlib.pyplot as plt"
   ]
  },
  {
   "cell_type": "code",
   "execution_count": 78,
   "metadata": {},
   "outputs": [
    {
     "data": {
      "text/plain": [
       "{'X': [1, 2, 3, 4, 5], 'Y': [1, 2, 3, 4, 5]}"
      ]
     },
     "execution_count": 78,
     "metadata": {},
     "output_type": "execute_result"
    }
   ],
   "source": [
    "data = {\n",
    "    \"X\": [1, 2, 3, 4, 5],\n",
    "    \"Y\": [1, 2, 3, 4, 5]\n",
    "}\n",
    "\n",
    "df = pd.DataFrame(data)\n",
    "data"
   ]
  },
  {
   "cell_type": "code",
   "execution_count": 79,
   "metadata": {},
   "outputs": [],
   "source": [
    "m, b = np.polyfit(df[\"X\"], df[\"Y\"], 1)"
   ]
  },
  {
   "cell_type": "code",
   "execution_count": 80,
   "metadata": {},
   "outputs": [
    {
     "name": "stdout",
     "output_type": "stream",
     "text": [
      "Lutning (m): 1.0\n",
      "Intercept (b): -1.1352096489163207e-15\n"
     ]
    }
   ],
   "source": [
    "print(f\"Lutning (m): {m}\")\n",
    "print(f\"Intercept (b): {b}\")"
   ]
  },
  {
   "cell_type": "code",
   "execution_count": 81,
   "metadata": {},
   "outputs": [],
   "source": [
    "y_pred = m * df['X'] + b"
   ]
  },
  {
   "cell_type": "code",
   "execution_count": 82,
   "metadata": {},
   "outputs": [],
   "source": [
    "residuals = df[\"Y\"] - y_pred\n",
    "\n",
    "total_variation = df[\"Y\"] - df[\"Y\"].mean()\n",
    "\n",
    "r_squared = 1 - (np.sum(residuals**2) / np.sum(total_variation**2))\n"
   ]
  },
  {
   "cell_type": "code",
   "execution_count": 83,
   "metadata": {},
   "outputs": [
    {
     "name": "stdout",
     "output_type": "stream",
     "text": [
      "R^2: 1.0\n"
     ]
    }
   ],
   "source": [
    "print(f\"R^2: {r_squared}\")"
   ]
  },
  {
   "cell_type": "code",
   "execution_count": 84,
   "metadata": {},
   "outputs": [
    {
     "data": {
      "text/plain": [
       "[<matplotlib.lines.Line2D at 0x150efd88620>]"
      ]
     },
     "execution_count": 84,
     "metadata": {},
     "output_type": "execute_result"
    },
    {
     "data": {
      "image/png": "[encoded data removed]",
      "text/plain": [
       "<Figure size 640x480 with 1 Axes>"
      ]
     },
     "metadata": {},
     "output_type": "display_data"
    }
   ],
   "source": [
    "plt.scatter(x=\"X\", y=\"Y\", data=data)\n",
    "plt.plot(df['X'], y_pred, color='red', label='Regressionslinje')"
   ]
  },
  {
   "cell_type": "code",
   "execution_count": 85,
   "metadata": {},
   "outputs": [
    {
     "name": "stdout",
     "output_type": "stream",
     "text": [
      "   X1  X2  Y\n",
      "0   1   5  1\n",
      "1   2   4  2\n",
      "2   3   3  3\n",
      "3   4   2  4\n",
      "4   5   1  5\n"
     ]
    }
   ],
   "source": [
    "data = {\n",
    "    \"X1\": [1, 2, 3, 4, 5],\n",
    "    \"X2\": [5, 4, 3, 2, 1] ,\n",
    "    \"Y\": [1, 2, 3, 4, 5]\n",
    "}\n",
    "\n",
    "df = pd.DataFrame(data)\n",
    "\n",
    "print(df)"
   ]
  },
  {
   "cell_type": "code",
   "execution_count": 86,
   "metadata": {},
   "outputs": [],
   "source": [
    "X = np.column_stack((np.ones(len(df)), df[\"X1\"], df[\"X2\"]))\n",
    "y = df[\"Y\"]\n",
    "\n",
    "beta = np.linalg.lstsq(X, y, rcond=None)[0]"
   ]
  },
  {
   "cell_type": "code",
   "execution_count": 87,
   "metadata": {},
   "outputs": [
    {
     "name": "stdout",
     "output_type": "stream",
     "text": [
      "Koefficienter: [ 0.15789474  0.97368421 -0.02631579]\n"
     ]
    }
   ],
   "source": [
    "# Visa koefficienterna\n",
    "print(f\"Koefficienter: {beta}\")\n"
   ]
  },
  {
   "cell_type": "code",
   "execution_count": 88,
   "metadata": {},
   "outputs": [],
   "source": [
    "data = {\n",
    "    \"X\": [1, 2, 3, 4, 5],\n",
    "    \"Y\": [2, 3, 4 ,5 ,6]\n",
    "}\n",
    "\n",
    "df = pd.DataFrame(data)\n",
    "\n"
   ]
  },
  {
   "cell_type": "code",
   "execution_count": 89,
   "metadata": {},
   "outputs": [],
   "source": [
    "X = np.column_stack((np.ones(len(df)), df[\"X\"]))"
   ]
  },
  {
   "cell_type": "code",
   "execution_count": 90,
   "metadata": {},
   "outputs": [],
   "source": [
    "y = df[\"Y\"]"
   ]
  },
  {
   "cell_type": "code",
   "execution_count": 91,
   "metadata": {},
   "outputs": [],
   "source": [
    "beta = np.linalg.lstsq(X, y, rcond=None)[0]"
   ]
  },
  {
   "cell_type": "code",
   "execution_count": 92,
   "metadata": {},
   "outputs": [
    {
     "name": "stdout",
     "output_type": "stream",
     "text": [
      "Beta and the slope is [1. 1.]\n"
     ]
    }
   ],
   "source": [
    "print(f\"Beta and the slope is {beta}\")"
   ]
  },
  {
   "cell_type": "code",
   "execution_count": 93,
   "metadata": {},
   "outputs": [],
   "source": [
    "y_pred = X.dot(beta)"
   ]
  },
  {
   "cell_type": "code",
   "execution_count": 94,
   "metadata": {},
   "outputs": [
    {
     "data": {
      "text/plain": [
       "[<matplotlib.lines.Line2D at 0x150efceb830>]"
      ]
     },
     "execution_count": 94,
     "metadata": {},
     "output_type": "execute_result"
    },
    {
     "data": {
      "image/png": "[encoded data removed]",
      "text/plain": [
       "<Figure size 640x480 with 1 Axes>"
      ]
     },
     "metadata": {},
     "output_type": "display_data"
    }
   ],
   "source": [
    "plt.scatter(x=\"X\",y= \"Y\",data= df)\n",
    "plt.plot(df[\"X\"], data=y_pred, color=\"red\")"
   ]
  },
  {
   "cell_type": "code",
   "execution_count": 95,
   "metadata": {},
   "outputs": [],
   "source": [
    "data = {\n",
    "    \"X\": [1, 2, 3, 4, 5, 6, 7, 8],\n",
    "    \"Y\": [7, 11, 15, 19, 23, 27, 31, 35]\n",
    "}\n",
    "\n",
    "df = pd.DataFrame(data)"
   ]
  },
  {
   "cell_type": "code",
   "execution_count": 96,
   "metadata": {},
   "outputs": [],
   "source": [
    "X = np.column_stack((np.ones(len(df)),df[\"X\"]))\n",
    "\n",
    "y = df[\"Y\"]"
   ]
  },
  {
   "cell_type": "code",
   "execution_count": 97,
   "metadata": {},
   "outputs": [],
   "source": [
    "beta = np.linalg.lstsq(X, y, rcond=None)[0]"
   ]
  },
  {
   "cell_type": "code",
   "execution_count": 98,
   "metadata": {},
   "outputs": [
    {
     "name": "stdout",
     "output_type": "stream",
     "text": [
      "The intercept and slope is 3.0000000000000027, 3.9999999999999973\n"
     ]
    }
   ],
   "source": [
    "print(f\"The intercept and slope is {beta[0]}, {beta[1]}\")"
   ]
  },
  {
   "cell_type": "code",
   "execution_count": 99,
   "metadata": {},
   "outputs": [],
   "source": [
    "y_pred = X.dot(beta)"
   ]
  },
  {
   "cell_type": "code",
   "execution_count": 100,
   "metadata": {},
   "outputs": [],
   "source": [
    "#Hur man räknar ut R^\"\"\n",
    "\n",
    "residuals = y - y_pred\n",
    "ss_res = np.sum(residuals**2)\n",
    "ss_tot = np.sum((y - np.mean(y))**2)\n",
    "r_squared = 1 - (ss_res / ss_tot)\n",
    "Variance = np.var(y, ddof=0)\n",
    "std = np.std(y, ddof=0)"
   ]
  },
  {
   "cell_type": "code",
   "execution_count": 101,
   "metadata": {},
   "outputs": [],
   "source": [
    "y_mean = np.mean(df[\"Y\"])\n",
    "SST = np.sum((df[\"Y\"] - y_mean) ** 2)\n",
    "SSE = np.sum((df[\"Y\"] - y_pred)**2)\n",
    "SSR = SST-SSE\n"
   ]
  },
  {
   "cell_type": "code",
   "execution_count": 102,
   "metadata": {},
   "outputs": [
    {
     "name": "stdout",
     "output_type": "stream",
     "text": [
      "SST (Total Sum of Squares): 672.0\n",
      "SSE (Sum of Squared Errors): 9.592548607487504e-28\n",
      "SSR (Sum of Squares for Regression): 672.0\n"
     ]
    }
   ],
   "source": [
    "# Skriva ut resultaten\n",
    "print(f\"SST (Total Sum of Squares): {SST}\")\n",
    "print(f\"SSE (Sum of Squared Errors): {SSE}\")\n",
    "print(f\"SSR (Sum of Squares for Regression): {SSR}\")"
   ]
  },
  {
   "cell_type": "code",
   "execution_count": 103,
   "metadata": {},
   "outputs": [
    {
     "name": "stdout",
     "output_type": "stream",
     "text": [
      "The variance, std and r_squared 84.0 9.16515138991168 1.0\n"
     ]
    }
   ],
   "source": [
    "print(f\"The variance, std and r_squared {Variance} {std} {r_squared}\")"
   ]
  },
  {
   "cell_type": "code",
   "execution_count": 104,
   "metadata": {},
   "outputs": [
    {
     "data": {
      "text/plain": [
       "[<matplotlib.lines.Line2D at 0x150eff67b00>]"
      ]
     },
     "execution_count": 104,
     "metadata": {},
     "output_type": "execute_result"
    },
    {
     "data": {
      "image/png": "[encoded data removed]",
      "text/plain": [
       "<Figure size 640x480 with 1 Axes>"
      ]
     },
     "metadata": {},
     "output_type": "display_data"
    }
   ],
   "source": [
    "plt.scatter(df['X'], df['Y'], color='blue', label='Actual Data')\n",
    "plt.plot(df['X'], y_pred, color='red', label='Fitted Line')"
   ]
  },
  {
   "cell_type": "code",
   "execution_count": 106,
   "metadata": {},
   "outputs": [
    {
     "name": "stdout",
     "output_type": "stream",
     "text": [
      "X shape: (198, 5)\n",
      "Beta shape: (5,)\n",
      "Prediktioner: [0.10109057 0.10399935 0.10399935 0.29325663 0.29181316]\n"
     ]
    }
   ],
   "source": [
    "import pandas as pd\n",
    "import numpy as np\n",
    "\n",
    "# Ladda data (om den inte redan är inläst)\n",
    "df = pd.read_csv(r\"C:\\Code\\Statistiska metoder\\Datasets\\Small-diameter-flow.csv\")\n",
    "\n",
    "# Se till att vi väljer alla predictors\n",
    "X = df[[\"Flow\", \"Kinematic\", \"Geometric\", \"Inertial\"]].values  # Se till att dessa är korrekta!\n",
    "Y = df[\"Observer\"].values  # Beroende variabel\n",
    "\n",
    "# Lägg till intercept-kolumn (ettor)\n",
    "X = np.column_stack((np.ones(X.shape[0]), X))  \n",
    "\n",
    "# Utför linjär regression\n",
    "beta, _, _, _ = np.linalg.lstsq(X, Y, rcond=None)\n",
    "\n",
    "# Kontrollera storlek igen\n",
    "print(\"X shape:\", X.shape)  # Ska vara (198, 6)\n",
    "print(\"Beta shape:\", beta.shape)  # Ska vara (6,)\n",
    "\n",
    "# Förutsäg värden\n",
    "predictions = X @ beta  \n",
    "print(\"Prediktioner:\", predictions[:5])\n"
   ]
  }
 ],
 "metadata": {
  "kernelspec": {
   "display_name": ".venv",
   "language": "python",
   "name": "python3"
  },
  "language_info": {
   "codemirror_mode": {
    "name": "ipython",
    "version": 3
   },
   "file_extension": ".py",
   "mimetype": "text/x-python",
   "name": "python",
   "nbconvert_exporter": "python",
   "pygments_lexer": "ipython3",
   "version": "3.12.5"
  }
 },
 "nbformat": 4,
 "nbformat_minor": 2
}
