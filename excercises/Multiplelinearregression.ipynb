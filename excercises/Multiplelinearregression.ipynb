{
 "cells": [
  {
   "cell_type": "code",
   "execution_count": 25,
   "metadata": {},
   "outputs": [],
   "source": [
    "import pandas as pd\n",
    "import numpy as np\n",
    "import matplotlib.pyplot as plt"
   ]
  },
  {
   "cell_type": "code",
   "execution_count": 26,
   "metadata": {},
   "outputs": [],
   "source": [
    "df = pd.read_csv(r\"C:\\Code\\Statistiska metoder\\Datasets\\Student_Performance.csv\")"
   ]
  },
  {
   "cell_type": "code",
   "execution_count": 27,
   "metadata": {},
   "outputs": [
    {
     "data": {
      "text/html": [
       "<div>\n",
       "<style scoped>\n",
       "    .dataframe tbody tr th:only-of-type {\n",
       "        vertical-align: middle;\n",
       "    }\n",
       "\n",
       "    .dataframe tbody tr th {\n",
       "        vertical-align: top;\n",
       "    }\n",
       "\n",
       "    .dataframe thead th {\n",
       "        text-align: right;\n",
       "    }\n",
       "</style>\n",
       "<table border=\"1\" class=\"dataframe\">\n",
       "  <thead>\n",
       "    <tr style=\"text-align: right;\">\n",
       "      <th></th>\n",
       "      <th>Hours Studied</th>\n",
       "      <th>Previous Scores</th>\n",
       "      <th>Extracurricular Activities</th>\n",
       "      <th>Sleep Hours</th>\n",
       "      <th>Sample Question Papers Practiced</th>\n",
       "      <th>Performance Index</th>\n",
       "    </tr>\n",
       "  </thead>\n",
       "  <tbody>\n",
       "    <tr>\n",
       "      <th>0</th>\n",
       "      <td>7</td>\n",
       "      <td>99</td>\n",
       "      <td>Yes</td>\n",
       "      <td>9</td>\n",
       "      <td>1</td>\n",
       "      <td>91.0</td>\n",
       "    </tr>\n",
       "    <tr>\n",
       "      <th>1</th>\n",
       "      <td>4</td>\n",
       "      <td>82</td>\n",
       "      <td>No</td>\n",
       "      <td>4</td>\n",
       "      <td>2</td>\n",
       "      <td>65.0</td>\n",
       "    </tr>\n",
       "    <tr>\n",
       "      <th>2</th>\n",
       "      <td>8</td>\n",
       "      <td>51</td>\n",
       "      <td>Yes</td>\n",
       "      <td>7</td>\n",
       "      <td>2</td>\n",
       "      <td>45.0</td>\n",
       "    </tr>\n",
       "    <tr>\n",
       "      <th>3</th>\n",
       "      <td>5</td>\n",
       "      <td>52</td>\n",
       "      <td>Yes</td>\n",
       "      <td>5</td>\n",
       "      <td>2</td>\n",
       "      <td>36.0</td>\n",
       "    </tr>\n",
       "    <tr>\n",
       "      <th>4</th>\n",
       "      <td>7</td>\n",
       "      <td>75</td>\n",
       "      <td>No</td>\n",
       "      <td>8</td>\n",
       "      <td>5</td>\n",
       "      <td>66.0</td>\n",
       "    </tr>\n",
       "  </tbody>\n",
       "</table>\n",
       "</div>"
      ],
      "text/plain": [
       "   Hours Studied  Previous Scores Extracurricular Activities  Sleep Hours  \\\n",
       "0              7               99                        Yes            9   \n",
       "1              4               82                         No            4   \n",
       "2              8               51                        Yes            7   \n",
       "3              5               52                        Yes            5   \n",
       "4              7               75                         No            8   \n",
       "\n",
       "   Sample Question Papers Practiced  Performance Index  \n",
       "0                                 1               91.0  \n",
       "1                                 2               65.0  \n",
       "2                                 2               45.0  \n",
       "3                                 2               36.0  \n",
       "4                                 5               66.0  "
      ]
     },
     "execution_count": 27,
     "metadata": {},
     "output_type": "execute_result"
    }
   ],
   "source": [
    "df.head()"
   ]
  },
  {
   "cell_type": "code",
   "execution_count": 28,
   "metadata": {},
   "outputs": [],
   "source": [
    "X = df[[\"Hours Studied\", \"Previous Scores\"]].values\n",
    "Y = df[\"Performance Index\"]"
   ]
  },
  {
   "cell_type": "code",
   "execution_count": 29,
   "metadata": {},
   "outputs": [
    {
     "data": {
      "text/plain": [
       "array([[ 1.,  7., 99.],\n",
       "       [ 1.,  4., 82.],\n",
       "       [ 1.,  8., 51.],\n",
       "       ...,\n",
       "       [ 1.,  6., 83.],\n",
       "       [ 1.,  9., 97.],\n",
       "       [ 1.,  7., 74.]])"
      ]
     },
     "execution_count": 29,
     "metadata": {},
     "output_type": "execute_result"
    }
   ],
   "source": [
    "X_design = np.column_stack((np.ones(len(X)), X))\n",
    "X_design"
   ]
  },
  {
   "cell_type": "code",
   "execution_count": 30,
   "metadata": {},
   "outputs": [],
   "source": [
    "#Räkna ut linjära regressionen, prediktorn och residualen\n",
    "beta = np.linalg.lstsq(X_design, Y, rcond=None)[0]\n",
    "Y_pred = X_design.dot(beta)\n",
    "residuals = Y- Y_pred"
   ]
  },
  {
   "cell_type": "code",
   "execution_count": 31,
   "metadata": {},
   "outputs": [],
   "source": [
    "#Räkna ut Mellanvärdet, variance, standardavikelsen\n",
    "Y_mean = np.mean(Y)\n",
    "std = np.std(residuals, ddof=1)\n",
    "variance = np.var(residuals, ddof=1)\n"
   ]
  },
  {
   "cell_type": "code",
   "execution_count": 32,
   "metadata": {},
   "outputs": [],
   "source": [
    "#Räkna ut SSE, SST, SSR och R^2\n",
    "SST = np.sum(Y - Y_mean)\n",
    "SSE = np.sum(residuals**2)\n",
    "SSR = SST / SSE\n",
    "R_squared = SSR/SST"
   ]
  },
  {
   "cell_type": "code",
   "execution_count": 38,
   "metadata": {},
   "outputs": [
    {
     "name": "stdout",
     "output_type": "stream",
     "text": [
      "The linear regression looks like Y = -29.816789860385224 + 2.857637245414601X\n",
      "Intercept: -29.816789860385224\n",
      "Koefficienter: [2.85763725 1.01912275]\n",
      "Varians: 5.2148043492246146\n",
      "Standardavvikelse: 2.2835946114020795\n",
      "SST (Total Sum of Squares): -2.0804691303055733e-11\n",
      "SSE (Sum of Squared Errors): 52142.82868789694\n",
      "SSR (Sum of Squares for Regression): -3.9899429752043324e-16\n",
      "R^2: 1.917809265748779e-05\n"
     ]
    }
   ],
   "source": [
    "print(f\"The linear regression looks like Y = {beta[0]} + {beta[1]}X\")\n",
    "print(f\"Intercept: {beta[0]}\")\n",
    "print(f\"Koefficienter: {beta[1:]}\")\n",
    "print(f\"Varians: {variance}\")\n",
    "print(f\"Standardavvikelse: {std}\")\n",
    "print(f\"SST (Total Sum of Squares): {SST}\")\n",
    "print(f\"SSE (Sum of Squared Errors): {SSE}\")\n",
    "print(f\"SSR (Sum of Squares for Regression): {SSR}\")\n",
    "print(f\"R^2: {R_squared}\")"
   ]
  },
  {
   "cell_type": "code",
   "execution_count": 37,
   "metadata": {},
   "outputs": [
    {
     "data": {
      "image/png": "[encoded data removed]",
      "text/plain": [
       "<Figure size 640x480 with 1 Axes>"
      ]
     },
     "metadata": {},
     "output_type": "display_data"
    }
   ],
   "source": [
    "\n",
    "plt.scatter(Y, Y_pred)\n",
    "plt.xlabel(\"Verkligt Performance Index\")\n",
    "plt.ylabel(\"Predikterat Performance Index\")\n",
    "plt.title(\"Predikterade värden vs. Verkliga värden\")\n",
    "plt.axline([0, 0], slope=1, color=\"red\", linestyle=\"--\")  # 45-graders referenslinje\n",
    "plt.show()\n"
   ]
  }
 ],
 "metadata": {
  "kernelspec": {
   "display_name": ".venv",
   "language": "python",
   "name": "python3"
  },
  "language_info": {
   "codemirror_mode": {
    "name": "ipython",
    "version": 3
   },
   "file_extension": ".py",
   "mimetype": "text/x-python",
   "name": "python",
   "nbconvert_exporter": "python",
   "pygments_lexer": "ipython3",
   "version": "3.12.5"
  }
 },
 "nbformat": 4,
 "nbformat_minor": 2
}
