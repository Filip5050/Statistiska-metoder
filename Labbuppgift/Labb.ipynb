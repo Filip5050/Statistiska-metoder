{
 "cells": [
  {
   "cell_type": "code",
   "execution_count": 1,
   "metadata": {},
   "outputs": [],
   "source": [
    "# Importera nödvändiga moduler\n",
    "import numpy as np\n",
    "import pandas as pd\n",
    "from linear_regression import LinearRegression  # Se till att filen linear_regression.py finns i samma mapp eller är korrekt angiven i sys.path"
   ]
  },
  {
   "cell_type": "code",
   "execution_count": 2,
   "metadata": {},
   "outputs": [],
   "source": [
    "data = pd.read_csv(r\"C:\\Code\\Statistiska metoder\\Datasets\\Small-diameter-flow.csv\", index_col=0) #tar bort första kolumnen och sätter de som index då det inte tillhörede kolumnerna\n",
    "y = data.iloc[:, 0].values  #här sätter jag flow som min beroende variable Y\n",
    "X = data.iloc[:, 1:].values # Här sätter jag de andra kolumnerarna som mina oberoende variabler X"
   ]
  },
  {
   "cell_type": "code",
   "execution_count": 3,
   "metadata": {},
   "outputs": [
    {
     "name": "stdout",
     "output_type": "stream",
     "text": [
      "Antal observationer, n = 198\n",
      "Antal parametrar med intercept, d = 5\n",
      "Intercepten -2.5837690860705305\n",
      "Beta-koefficienter med intercept: [-2.58376909  0.87000771  3.60315069 -0.75188958  0.0168805 ]\n"
     ]
    }
   ],
   "source": [
    "model = LinearRegression(X, y)\n",
    "model.Koefficient()\n",
    "print(\"Antal observationer, n =\", model.n)\n",
    "print(\"Antal parametrar med intercept, d =\", model.d)\n",
    "print(\"Intercepten\", model.beta[0])\n",
    "print(\"Beta-koefficienter med intercept:\", model.beta)\n"
   ]
  },
  {
   "cell_type": "code",
   "execution_count": 4,
   "metadata": {},
   "outputs": [
    {
     "name": "stdout",
     "output_type": "stream",
     "text": [
      "Varians: 0.006272292538356658\n",
      "Standardavvikelse: 0.07919780639864124\n"
     ]
    }
   ],
   "source": [
    "variance = model.variance()\n",
    "std = model.standard_deviation()\n",
    "print(\"Varians:\", variance)\n",
    "print(\"Standardavvikelse:\", std)"
   ]
  },
  {
   "cell_type": "code",
   "execution_count": 5,
   "metadata": {},
   "outputs": [
    {
     "name": "stdout",
     "output_type": "stream",
     "text": [
      "T-värden: 16897.077024489645\n",
      "P-värden: 2.1976043173566615e-244\n"
     ]
    }
   ],
   "source": [
    "F_stat, p_values = model.significance()\n",
    "print(\"T-värden:\", F_stat)\n",
    "print(\"P-värden:\", p_values)"
   ]
  },
  {
   "cell_type": "code",
   "execution_count": 6,
   "metadata": {},
   "outputs": [
    {
     "name": "stdout",
     "output_type": "stream",
     "text": [
      "R² (Relevans): 0.9971526073276518\n"
     ]
    }
   ],
   "source": [
    "r2 = model.relevance()\n",
    "print(\"R² (Relevans):\", r2)"
   ]
  }
 ],
 "metadata": {
  "kernelspec": {
   "display_name": ".venv",
   "language": "python",
   "name": "python3"
  },
  "language_info": {
   "codemirror_mode": {
    "name": "ipython",
    "version": 3
   },
   "file_extension": ".py",
   "mimetype": "text/x-python",
   "name": "python",
   "nbconvert_exporter": "python",
   "pygments_lexer": "ipython3",
   "version": "3.12.5"
  }
 },
 "nbformat": 4,
 "nbformat_minor": 2
}
